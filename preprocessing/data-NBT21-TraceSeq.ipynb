{
 "cells": [
  {
   "cell_type": "markdown",
   "id": "454d82d3",
   "metadata": {
    "toc": true
   },
   "source": [
    "<h1>Table of Contents<span class=\"tocSkip\"></span></h1>\n",
    "<div class=\"toc\"><ul class=\"toc-item\"></ul></div>"
   ]
  },
  {
   "cell_type": "code",
   "id": "56044b87",
   "metadata": {
    "ExecuteTime": {
     "end_time": "2025-03-10T08:18:02.366732Z",
     "start_time": "2025-03-10T08:17:59.556917Z"
    }
   },
   "source": "from scTrace.pipeline import *",
   "outputs": [
    {
     "name": "stderr",
     "output_type": "stream",
     "text": [
      "E:\\Software\\Anaconda\\installation\\envs\\scTrace_env\\lib\\site-packages\\tqdm\\auto.py:21: TqdmWarning: IProgress not found. Please update jupyter and ipywidgets. See https://ipywidgets.readthedocs.io/en/stable/user_install.html\n",
      "  from .autonotebook import tqdm as notebook_tqdm\n"
     ]
    }
   ],
   "execution_count": 1
  },
  {
   "cell_type": "code",
   "id": "983883ca",
   "metadata": {
    "ExecuteTime": {
     "end_time": "2025-03-10T08:23:35.162297Z",
     "start_time": "2025-03-10T08:23:35.153785Z"
    }
   },
   "source": [
    "runLabel = \"Erlotinib\"\n",
    "savePath = \"D:/Lineage-data/NBT21-TraceSeq/Results/\"\n",
    "dataPath = \"D:/Lineage-data/NBT21-TraceSeq/ro_d4_erlotinib_1/\""
   ],
   "outputs": [],
   "execution_count": 2
  },
  {
   "cell_type": "code",
   "id": "f95a27ca",
   "metadata": {
    "ExecuteTime": {
     "end_time": "2025-03-10T08:24:12.738171Z",
     "start_time": "2025-03-10T08:23:35.727388Z"
    }
   },
   "source": [
    "adata = sc.read_10x_mtx(\n",
    "    dataPath + 'filtered_feature_bc_matrix/',  # the directory with the `.mtx` file\n",
    "    var_names = 'gene_symbols',    # use gene symbols for the variable names (variables-axis index)\n",
    "    make_unique = True, cache=False)"
   ],
   "outputs": [],
   "execution_count": 3
  },
  {
   "cell_type": "code",
   "id": "a17a7c05",
   "metadata": {
    "ExecuteTime": {
     "end_time": "2025-03-10T08:24:12.859836Z",
     "start_time": "2025-03-10T08:24:12.745552Z"
    }
   },
   "source": "cellAnno = pd.read_csv(dataPath + 'cellAnno.txt', sep = '\\t')",
   "outputs": [
    {
     "name": "stderr",
     "output_type": "stream",
     "text": [
      "C:\\Users\\ZeyuChen\\AppData\\Local\\Temp\\ipykernel_18436\\104678391.py:1: DtypeWarning: Columns (49) have mixed types. Specify dtype option on import or set low_memory=False.\n",
      "  cellAnno = pd.read_csv(dataPath + 'cellAnno.txt', sep = '\\t')\n"
     ]
    }
   ],
   "execution_count": 4
  },
  {
   "cell_type": "code",
   "id": "e32b91ad",
   "metadata": {
    "ExecuteTime": {
     "end_time": "2025-03-10T08:24:12.906007Z",
     "start_time": "2025-03-10T08:24:12.891437Z"
    }
   },
   "source": [
    "adata.obs = cellAnno"
   ],
   "outputs": [],
   "execution_count": 5
  },
  {
   "cell_type": "code",
   "id": "67a960cb",
   "metadata": {
    "ExecuteTime": {
     "end_time": "2025-03-10T08:24:12.982069Z",
     "start_time": "2025-03-10T08:24:12.971188Z"
    }
   },
   "source": [
    "adata"
   ],
   "outputs": [
    {
     "data": {
      "text/plain": [
       "AnnData object with n_obs × n_vars = 27620 × 45066\n",
       "    obs: 'orig.ident', 'nCount_RNA', 'nFeature_RNA', 'cell', 'sample', 'barcode', 'reads_total', 'mean_quality', 'reads_mapped', 'reads_analyzed', 'reads_top_gene', 'umis_total', 'umis_top_gene', 'umis_mitochondrial', 'genes_detected', 'fraction_reads_mapped', 'fraction_reads_analyzed', 'fraction_reads_top_gene', 'fraction_umis_mitochondrial', 'fraction_umis_top_gene', 'min_umis', 'detected', 'max_mt', 'passed', 'sizefactor', 'S.Score', 'G2M.Score', 'Phase', 'RNA_snn_res.0.1', 'RNA_snn_res.0.2', 'RNA_snn_res.0.3', 'RNA_snn_res.0.4', 'RNA_snn_res.0.5', 'RNA_snn_res.0.6', 'RNA_snn_res.0.7', 'RNA_snn_res.0.8', 'RNA_snn_res.0.9', 'RNA_snn_res.1', 'seurat_clusters', 'run', 'G1S1', 'S2', 'G2M3', 'M4', 'MG15', 'G06', 'cc.expanded', 'gfpbc', 'GFP_class', 'PC_1', 'PC_2', 'UMAP_1', 'UMAP_2', 'TSNE_1', 'TSNE_2'\n",
       "    var: 'gene_ids', 'feature_types'"
      ]
     },
     "execution_count": 6,
     "metadata": {},
     "output_type": "execute_result"
    }
   ],
   "execution_count": 6
  },
  {
   "cell_type": "code",
   "id": "f0b9997d",
   "metadata": {
    "ExecuteTime": {
     "end_time": "2025-03-10T08:24:26.362975Z",
     "start_time": "2025-03-10T08:24:26.343955Z"
    }
   },
   "source": [
    "adata.obs['run'].unique()"
   ],
   "outputs": [
    {
     "data": {
      "text/plain": [
       "array(['ro_d0', 'ro_d4_erlotinib_1'], dtype=object)"
      ]
     },
     "execution_count": 9,
     "metadata": {},
     "output_type": "execute_result"
    }
   ],
   "execution_count": 9
  },
  {
   "cell_type": "code",
   "id": "27cdc72c",
   "metadata": {
    "ExecuteTime": {
     "end_time": "2025-03-10T08:24:17.558286Z",
     "start_time": "2025-03-10T08:24:17.542779Z"
    }
   },
   "source": [
    "adata"
   ],
   "outputs": [
    {
     "data": {
      "text/plain": [
       "AnnData object with n_obs × n_vars = 27620 × 45066\n",
       "    obs: 'orig.ident', 'nCount_RNA', 'nFeature_RNA', 'cell', 'sample', 'barcode', 'reads_total', 'mean_quality', 'reads_mapped', 'reads_analyzed', 'reads_top_gene', 'umis_total', 'umis_top_gene', 'umis_mitochondrial', 'genes_detected', 'fraction_reads_mapped', 'fraction_reads_analyzed', 'fraction_reads_top_gene', 'fraction_umis_mitochondrial', 'fraction_umis_top_gene', 'min_umis', 'detected', 'max_mt', 'passed', 'sizefactor', 'S.Score', 'G2M.Score', 'Phase', 'RNA_snn_res.0.1', 'RNA_snn_res.0.2', 'RNA_snn_res.0.3', 'RNA_snn_res.0.4', 'RNA_snn_res.0.5', 'RNA_snn_res.0.6', 'RNA_snn_res.0.7', 'RNA_snn_res.0.8', 'RNA_snn_res.0.9', 'RNA_snn_res.1', 'seurat_clusters', 'run', 'G1S1', 'S2', 'G2M3', 'M4', 'MG15', 'G06', 'cc.expanded', 'gfpbc', 'GFP_class', 'PC_1', 'PC_2', 'UMAP_1', 'UMAP_2', 'TSNE_1', 'TSNE_2'\n",
       "    var: 'gene_ids', 'feature_types'"
      ]
     },
     "execution_count": 8,
     "metadata": {},
     "output_type": "execute_result"
    }
   ],
   "execution_count": 8
  },
  {
   "cell_type": "code",
   "execution_count": 28,
   "id": "0f9c1885",
   "metadata": {},
   "outputs": [],
   "source": [
    "def getScObjects(scobj, item, values, n_neighbors = 10, n_pcs = 40):\n",
    "    data_split = [scobj[scobj.obs[item] == v,:] for v in values]\n",
    "    data_split = [preProcess(d) for d in data_split]\n",
    "    comm_hvgs = set([g for d in data_split for g in d.var.index[d.var.highly_variable]])\n",
    "    \n",
    "    for di in range(len(data_split)):\n",
    "        data_split[di].var.highly_variable = [gene in comm_hvgs for gene in data_split[di].var.index]\n",
    "        data_split[di] = runScanpy(data_split[di], n_neighbors, n_pcs, regress=False)\n",
    "    \n",
    "    return(data_split)"
   ]
  },
  {
   "cell_type": "code",
   "execution_count": 38,
   "id": "3a75547c",
   "metadata": {},
   "outputs": [
    {
     "data": {
      "text/plain": [
       "['ro_d0', 'ro_d4_erlotinib_1']\n",
       "Categories (2, object): ['ro_d0', 'ro_d4_erlotinib_1']"
      ]
     },
     "execution_count": 38,
     "metadata": {},
     "output_type": "execute_result"
    }
   ],
   "source": [
    "adata.obs['run'].unique()"
   ]
  },
  {
   "cell_type": "code",
   "execution_count": 36,
   "id": "b51dead9",
   "metadata": {},
   "outputs": [
    {
     "name": "stderr",
     "output_type": "stream",
     "text": [
      "/home/glab/wguo/softwares/anaconda3/envs/gwb-r40/lib/python3.9/site-packages/scanpy/preprocessing/_normalization.py:170: UserWarning: Received a view of an AnnData. Making a copy.\n",
      "  view_to_actual(adata)\n"
     ]
    },
    {
     "name": "stdout",
     "output_type": "stream",
     "text": [
      "WARNING: adata.X seems to be already log-transformed.\n",
      "WARNING: adata.X seems to be already log-transformed.\n",
      "WARNING: adata.X seems to be already log-transformed.\n"
     ]
    }
   ],
   "source": [
    "data0, data4 = getScObjects(adata, item = 'run', values = ['ro_d0', 'ro_d4_erlotinib_1'], n_neighbors = 10, n_pcs = 20)"
   ]
  },
  {
   "cell_type": "code",
   "execution_count": 37,
   "id": "68408d5d",
   "metadata": {},
   "outputs": [],
   "source": [
    "data0.write(savePath + 'D0_scobj.h5ad')\n",
    "data4.write(savePath + 'D4_erlo_scobj.h5ad')"
   ]
  },
  {
   "cell_type": "code",
   "execution_count": null,
   "id": "f4875bb0",
   "metadata": {},
   "outputs": [],
   "source": [
    "data0.obs['gfpbc'][data0.obs['gfpbc'] == \"No_BC\"] = np.nan\n",
    "data0.obs['gfpbc'][data0.obs['gfpbc'] == \"No_BC\"] = np.nan"
   ]
  },
  {
   "metadata": {},
   "cell_type": "code",
   "outputs": [],
   "execution_count": null,
   "source": [
    "data0.write(savePath + 'D0_scobj_update.h5ad')\n",
    "data0.write(savePath + 'D4_scobj_update.h5ad')"
   ],
   "id": "58c5528d9aff9481"
  }
 ],
 "metadata": {
  "kernelspec": {
   "display_name": "Python 3 (ipykernel)",
   "language": "python",
   "name": "python3"
  },
  "language_info": {
   "codemirror_mode": {
    "name": "ipython",
    "version": 3
   },
   "file_extension": ".py",
   "mimetype": "text/x-python",
   "name": "python",
   "nbconvert_exporter": "python",
   "pygments_lexer": "ipython3",
   "version": "3.9.13"
  },
  "toc": {
   "base_numbering": 1,
   "nav_menu": {},
   "number_sections": true,
   "sideBar": true,
   "skip_h1_title": false,
   "title_cell": "Table of Contents",
   "title_sidebar": "Contents",
   "toc_cell": true,
   "toc_position": {},
   "toc_section_display": true,
   "toc_window_display": false
  }
 },
 "nbformat": 4,
 "nbformat_minor": 5
}

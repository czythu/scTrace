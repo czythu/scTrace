{
 "cells": [
  {
   "cell_type": "code",
   "id": "56044b87",
   "metadata": {
    "ExecuteTime": {
     "end_time": "2025-03-10T08:30:53.611223Z",
     "start_time": "2025-03-10T08:30:50.687833Z"
    }
   },
   "source": "from scTrace.pipeline import *",
   "outputs": [
    {
     "name": "stderr",
     "output_type": "stream",
     "text": [
      "E:\\Software\\Anaconda\\installation\\envs\\scTrace_env\\lib\\site-packages\\tqdm\\auto.py:21: TqdmWarning: IProgress not found. Please update jupyter and ipywidgets. See https://ipywidgets.readthedocs.io/en/stable/user_install.html\n",
      "  from .autonotebook import tqdm as notebook_tqdm\n"
     ]
    }
   ],
   "execution_count": 2
  },
  {
   "cell_type": "code",
   "id": "983883ca",
   "metadata": {
    "ExecuteTime": {
     "end_time": "2025-03-10T08:30:46.807943Z",
     "start_time": "2025-03-10T08:30:46.797078Z"
    }
   },
   "source": [
    "runLabel = \"PC9\"\n",
    "savePath = \"D:/Lineage-data/Nature21-Watermelon/Python-data/\"\n",
    "dataPath = \"D:/Lineage-data/Nature21-Watermelon/R-data/\""
   ],
   "outputs": [],
   "execution_count": 1
  },
  {
   "cell_type": "code",
   "id": "f95a27ca",
   "metadata": {
    "ExecuteTime": {
     "end_time": "2025-03-10T08:31:31.272658Z",
     "start_time": "2025-03-10T08:30:55.822722Z"
    }
   },
   "source": [
    "adata = sc.read_10x_mtx(\n",
    "    dataPath + 'PC9/filtered_feature_bc_matrix/',  # the directory with the `.mtx` file\n",
    "    var_names='gene_symbols',    # use gene symbols for the variable names (variables-axis index)\n",
    "    make_unique = True, cache=False)"
   ],
   "outputs": [],
   "execution_count": 3
  },
  {
   "cell_type": "code",
   "id": "a17a7c05",
   "metadata": {
    "ExecuteTime": {
     "end_time": "2025-03-10T08:31:31.411796Z",
     "start_time": "2025-03-10T08:31:31.276725Z"
    }
   },
   "source": [
    "cellAnno = pd.read_csv(dataPath + 'PC9/cellAnno.txt', sep = '\\t')"
   ],
   "outputs": [],
   "execution_count": 4
  },
  {
   "cell_type": "code",
   "id": "e32b91ad",
   "metadata": {
    "ExecuteTime": {
     "end_time": "2025-03-10T08:31:31.442821Z",
     "start_time": "2025-03-10T08:31:31.428318Z"
    }
   },
   "source": [
    "adata.obs = cellAnno"
   ],
   "outputs": [],
   "execution_count": 5
  },
  {
   "cell_type": "code",
   "id": "67a960cb",
   "metadata": {
    "ExecuteTime": {
     "end_time": "2025-03-10T08:31:49.117909Z",
     "start_time": "2025-03-10T08:31:49.110866Z"
    }
   },
   "source": [
    "adata"
   ],
   "outputs": [
    {
     "data": {
      "text/plain": [
       "AnnData object with n_obs × n_vars = 56419 × 22166\n",
       "    obs: 'orig.ident', 'nCount_RNA', 'nFeature_RNA', 'percent.mt', 'sample_id', 'time_point', 'sample_name', 'sample_type', 'lineage_barcode', 'majority_fate'\n",
       "    var: 'gene_ids', 'feature_types'"
      ]
     },
     "execution_count": 6,
     "metadata": {},
     "output_type": "execute_result"
    }
   ],
   "execution_count": 6
  },
  {
   "cell_type": "code",
   "execution_count": 7,
   "id": "f0b9997d",
   "metadata": {},
   "outputs": [
    {
     "data": {
      "text/plain": [
       "array([ 0,  3,  7, 14])"
      ]
     },
     "execution_count": 7,
     "metadata": {},
     "output_type": "execute_result"
    }
   ],
   "source": [
    "adata.obs['time_point'].unique()"
   ]
  },
  {
   "cell_type": "code",
   "execution_count": null,
   "id": "0f9c1885",
   "metadata": {},
   "outputs": [],
   "source": [
    "def getScObjects(scobj, item, values, n_neighbors = 10, n_pcs = 40):\n",
    "    data_split = [scobj[scobj.obs[item] == v,:] for v in values]\n",
    "    data_split = [preProcess(d) for d in data_split]\n",
    "    comm_hvgs = set([g for d in data_split for g in d.var.index[d.var.highly_variable]])\n",
    "    \n",
    "    for di in range(len(data_split)):\n",
    "        data_split[di].var.highly_variable = [gene in comm_hvgs for gene in data_split[di].var.index]\n",
    "        data_split[di] = runScanpy(data_split[di], n_neighbors, n_pcs, regress=False)\n",
    "    \n",
    "    return(data_split)"
   ]
  },
  {
   "cell_type": "code",
   "execution_count": 17,
   "id": "3a75547c",
   "metadata": {},
   "outputs": [
    {
     "data": {
      "text/plain": [
       "array([ 0,  3,  7, 14])"
      ]
     },
     "execution_count": 17,
     "metadata": {},
     "output_type": "execute_result"
    }
   ],
   "source": [
    "adata.obs['time_point'].unique()"
   ]
  },
  {
   "cell_type": "code",
   "execution_count": 19,
   "id": "b51dead9",
   "metadata": {},
   "outputs": [
    {
     "name": "stderr",
     "output_type": "stream",
     "text": [
      "/home/glab/wguo/softwares/anaconda3/envs/gwb-r40/lib/python3.9/site-packages/scanpy/preprocessing/_normalization.py:170: UserWarning: Received a view of an AnnData. Making a copy.\n",
      "  view_to_actual(adata)\n"
     ]
    },
    {
     "name": "stdout",
     "output_type": "stream",
     "text": [
      "WARNING: adata.X seems to be already log-transformed.\n",
      "WARNING: adata.X seems to be already log-transformed.\n",
      "WARNING: adata.X seems to be already log-transformed.\n",
      "WARNING: adata.X seems to be already log-transformed.\n",
      "WARNING: adata.X seems to be already log-transformed.\n"
     ]
    }
   ],
   "source": [
    "data0, data3, data7, data14 = getScObjects(adata, item = 'time_point', values = [0,3,7,14], n_neighbors = 10, n_pcs = 40)"
   ]
  },
  {
   "cell_type": "code",
   "execution_count": 30,
   "id": "68408d5d",
   "metadata": {},
   "outputs": [],
   "source": [
    "data0.write(savePath + 'D0_scobj.h5ad')\n",
    "data3.write(savePath + 'D3_scobj.h5ad')\n",
    "data7.write(savePath + 'D7_scobj.h5ad')\n",
    "data14.write(savePath + 'D14_scobj.h5ad')"
   ]
  },
  {
   "cell_type": "code",
   "execution_count": null,
   "id": "f4875bb0",
   "metadata": {},
   "outputs": [],
   "source": []
  }
 ],
 "metadata": {
  "kernelspec": {
   "display_name": "Python 3 (ipykernel)",
   "language": "python",
   "name": "python3"
  },
  "language_info": {
   "codemirror_mode": {
    "name": "ipython",
    "version": 3
   },
   "file_extension": ".py",
   "mimetype": "text/x-python",
   "name": "python",
   "nbconvert_exporter": "python",
   "pygments_lexer": "ipython3",
   "version": "3.9.13"
  },
  "toc": {
   "base_numbering": 1,
   "nav_menu": {},
   "number_sections": true,
   "sideBar": true,
   "skip_h1_title": false,
   "title_cell": "Table of Contents",
   "title_sidebar": "Contents",
   "toc_cell": true,
   "toc_position": {},
   "toc_section_display": true,
   "toc_window_display": false
  }
 },
 "nbformat": 4,
 "nbformat_minor": 5
}

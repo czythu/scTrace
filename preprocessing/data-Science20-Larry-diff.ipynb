{
 "cells": [
  {
   "cell_type": "code",
   "id": "8c1d06d2-bb2d-4d9c-859f-eea41a0d6673",
   "metadata": {
    "ExecuteTime": {
     "end_time": "2025-03-06T14:53:15.023013Z",
     "start_time": "2025-03-06T14:53:04.958700Z"
    }
   },
   "source": "from scTrace.pipeline import *",
   "outputs": [
    {
     "name": "stderr",
     "output_type": "stream",
     "text": [
      "E:\\Software\\Anaconda\\installation\\envs\\scTrace_env\\lib\\site-packages\\tqdm\\auto.py:21: TqdmWarning: IProgress not found. Please update jupyter and ipywidgets. See https://ipywidgets.readthedocs.io/en/stable/user_install.html\n",
      "  from .autonotebook import tqdm as notebook_tqdm\n"
     ]
    }
   ],
   "execution_count": 1
  },
  {
   "metadata": {},
   "cell_type": "markdown",
   "source": "## Construct Larry-Diff dataset",
   "id": "acd1021751338e41"
  },
  {
   "cell_type": "code",
   "id": "202c7666-5d69-44a6-92c5-456c0e4cf083",
   "metadata": {
    "ExecuteTime": {
     "end_time": "2025-03-06T14:53:40.710412Z",
     "start_time": "2025-03-06T14:53:40.701400Z"
    }
   },
   "source": [
    "dataPath = \"D:/Lineage-data/Science2020-Larry/In vitro differentiation time course/\""
   ],
   "outputs": [],
   "execution_count": 2
  },
  {
   "cell_type": "code",
   "id": "8b095423-e26b-459a-a588-80926c9afd7c",
   "metadata": {
    "ExecuteTime": {
     "end_time": "2025-03-06T14:54:32.805208Z",
     "start_time": "2025-03-06T14:53:40.943300Z"
    }
   },
   "source": [
    "counts_matrix = sc.read_mtx(dataPath+'stateFate_inVitro_normed_counts.mtx.gz')"
   ],
   "outputs": [],
   "execution_count": 3
  },
  {
   "cell_type": "code",
   "execution_count": 18,
   "id": "f730e759-ccea-4137-841e-fea7a185c545",
   "metadata": {},
   "outputs": [
    {
     "data": {
      "text/plain": [
       "<130887x25289 sparse matrix of type '<class 'numpy.float32'>'\n",
       "\twith 176867560 stored elements in Compressed Sparse Row format>"
      ]
     },
     "execution_count": 18,
     "metadata": {},
     "output_type": "execute_result"
    }
   ],
   "source": [
    "counts_matrix.X"
   ]
  },
  {
   "cell_type": "code",
   "id": "c0902f8f-806f-4aae-9f31-0a11d440d29e",
   "metadata": {
    "ExecuteTime": {
     "end_time": "2024-06-09T06:28:55.124906Z",
     "start_time": "2024-06-09T06:28:54.897110Z"
    }
   },
   "source": [
    "metadata = pd.read_csv(dataPath+'stateFate_inVitro_metadata.txt.gz', sep='\\t', index_col=0)\n",
    "gene_names = pd.read_csv(dataPath+'stateFate_inVitro_gene_names.txt.gz', header=None)"
   ],
   "outputs": [],
   "execution_count": 4
  },
  {
   "cell_type": "code",
   "execution_count": 20,
   "id": "730e6f05-34f0-4f6b-8f1e-7720849dcf07",
   "metadata": {},
   "outputs": [],
   "source": [
    "gene_names.columns = ['gene_name']"
   ]
  },
  {
   "cell_type": "code",
   "id": "a52f6bcb-7403-4594-b540-f782168886f9",
   "metadata": {
    "ExecuteTime": {
     "end_time": "2024-06-09T06:28:56.557372Z",
     "start_time": "2024-06-09T06:28:56.526136Z"
    }
   },
   "source": [
    "metadata"
   ],
   "outputs": [
    {
     "data": {
      "text/plain": [
       "                 Cell barcode  Time point Starting population  \\\n",
       "Library                                                         \n",
       "d6_2_2      GCGTGCAA-AGAAGTTA         6.0       Lin-Kit+Sca1-   \n",
       "d6_2_2      AAGGGACC-CTCGATGC         6.0       Lin-Kit+Sca1-   \n",
       "d6_2_2      CGTACCGA-AGCGCCTT         6.0       Lin-Kit+Sca1-   \n",
       "d6_2_2      CTGAAGGG-AGGAGCTT         6.0       Lin-Kit+Sca1-   \n",
       "d6_2_2      CCGTAGCT-AGGCAGTT         6.0       Lin-Kit+Sca1-   \n",
       "...                       ...         ...                 ...   \n",
       "LSK_d6_1_3  TCTGATTT-CGGGCTTT         6.0       Lin-Kit+Sca1+   \n",
       "LSK_d6_1_3  AGTCACAA-TGTGTCCT         6.0       Lin-Kit+Sca1+   \n",
       "LSK_d6_1_3  GGAGGTTT-AGGCAGTT         6.0       Lin-Kit+Sca1+   \n",
       "LSK_d6_1_3  CCGGAAAT-GGGAAGGT         6.0       Lin-Kit+Sca1+   \n",
       "LSK_d6_1_3  GTATTGAC-GGGTGTAT         6.0       Lin-Kit+Sca1+   \n",
       "\n",
       "           Cell type annotation  Well  SPRING-x  SPRING-y  \n",
       "Library                                                    \n",
       "d6_2_2         Undifferentiated     2   411.496   -96.190  \n",
       "d6_2_2         Undifferentiated     2  -587.462  -306.925  \n",
       "d6_2_2                 Monocyte     2  1429.805  -429.300  \n",
       "d6_2_2               Neutrophil     2  1150.028 -2030.369  \n",
       "d6_2_2         Undifferentiated     2 -1169.594   362.010  \n",
       "...                         ...   ...       ...       ...  \n",
       "LSK_d6_1_3     Undifferentiated     1  -308.468  -163.223  \n",
       "LSK_d6_1_3     Undifferentiated     1    -3.435   575.133  \n",
       "LSK_d6_1_3             Monocyte     1  2548.309    24.683  \n",
       "LSK_d6_1_3             Monocyte     1  2658.601   131.098  \n",
       "LSK_d6_1_3     Undifferentiated     1  -266.344   996.297  \n",
       "\n",
       "[130887 rows x 7 columns]"
      ],
      "text/html": [
       "<div>\n",
       "<style scoped>\n",
       "    .dataframe tbody tr th:only-of-type {\n",
       "        vertical-align: middle;\n",
       "    }\n",
       "\n",
       "    .dataframe tbody tr th {\n",
       "        vertical-align: top;\n",
       "    }\n",
       "\n",
       "    .dataframe thead th {\n",
       "        text-align: right;\n",
       "    }\n",
       "</style>\n",
       "<table border=\"1\" class=\"dataframe\">\n",
       "  <thead>\n",
       "    <tr style=\"text-align: right;\">\n",
       "      <th></th>\n",
       "      <th>Cell barcode</th>\n",
       "      <th>Time point</th>\n",
       "      <th>Starting population</th>\n",
       "      <th>Cell type annotation</th>\n",
       "      <th>Well</th>\n",
       "      <th>SPRING-x</th>\n",
       "      <th>SPRING-y</th>\n",
       "    </tr>\n",
       "    <tr>\n",
       "      <th>Library</th>\n",
       "      <th></th>\n",
       "      <th></th>\n",
       "      <th></th>\n",
       "      <th></th>\n",
       "      <th></th>\n",
       "      <th></th>\n",
       "      <th></th>\n",
       "    </tr>\n",
       "  </thead>\n",
       "  <tbody>\n",
       "    <tr>\n",
       "      <th>d6_2_2</th>\n",
       "      <td>GCGTGCAA-AGAAGTTA</td>\n",
       "      <td>6.0</td>\n",
       "      <td>Lin-Kit+Sca1-</td>\n",
       "      <td>Undifferentiated</td>\n",
       "      <td>2</td>\n",
       "      <td>411.496</td>\n",
       "      <td>-96.190</td>\n",
       "    </tr>\n",
       "    <tr>\n",
       "      <th>d6_2_2</th>\n",
       "      <td>AAGGGACC-CTCGATGC</td>\n",
       "      <td>6.0</td>\n",
       "      <td>Lin-Kit+Sca1-</td>\n",
       "      <td>Undifferentiated</td>\n",
       "      <td>2</td>\n",
       "      <td>-587.462</td>\n",
       "      <td>-306.925</td>\n",
       "    </tr>\n",
       "    <tr>\n",
       "      <th>d6_2_2</th>\n",
       "      <td>CGTACCGA-AGCGCCTT</td>\n",
       "      <td>6.0</td>\n",
       "      <td>Lin-Kit+Sca1-</td>\n",
       "      <td>Monocyte</td>\n",
       "      <td>2</td>\n",
       "      <td>1429.805</td>\n",
       "      <td>-429.300</td>\n",
       "    </tr>\n",
       "    <tr>\n",
       "      <th>d6_2_2</th>\n",
       "      <td>CTGAAGGG-AGGAGCTT</td>\n",
       "      <td>6.0</td>\n",
       "      <td>Lin-Kit+Sca1-</td>\n",
       "      <td>Neutrophil</td>\n",
       "      <td>2</td>\n",
       "      <td>1150.028</td>\n",
       "      <td>-2030.369</td>\n",
       "    </tr>\n",
       "    <tr>\n",
       "      <th>d6_2_2</th>\n",
       "      <td>CCGTAGCT-AGGCAGTT</td>\n",
       "      <td>6.0</td>\n",
       "      <td>Lin-Kit+Sca1-</td>\n",
       "      <td>Undifferentiated</td>\n",
       "      <td>2</td>\n",
       "      <td>-1169.594</td>\n",
       "      <td>362.010</td>\n",
       "    </tr>\n",
       "    <tr>\n",
       "      <th>...</th>\n",
       "      <td>...</td>\n",
       "      <td>...</td>\n",
       "      <td>...</td>\n",
       "      <td>...</td>\n",
       "      <td>...</td>\n",
       "      <td>...</td>\n",
       "      <td>...</td>\n",
       "    </tr>\n",
       "    <tr>\n",
       "      <th>LSK_d6_1_3</th>\n",
       "      <td>TCTGATTT-CGGGCTTT</td>\n",
       "      <td>6.0</td>\n",
       "      <td>Lin-Kit+Sca1+</td>\n",
       "      <td>Undifferentiated</td>\n",
       "      <td>1</td>\n",
       "      <td>-308.468</td>\n",
       "      <td>-163.223</td>\n",
       "    </tr>\n",
       "    <tr>\n",
       "      <th>LSK_d6_1_3</th>\n",
       "      <td>AGTCACAA-TGTGTCCT</td>\n",
       "      <td>6.0</td>\n",
       "      <td>Lin-Kit+Sca1+</td>\n",
       "      <td>Undifferentiated</td>\n",
       "      <td>1</td>\n",
       "      <td>-3.435</td>\n",
       "      <td>575.133</td>\n",
       "    </tr>\n",
       "    <tr>\n",
       "      <th>LSK_d6_1_3</th>\n",
       "      <td>GGAGGTTT-AGGCAGTT</td>\n",
       "      <td>6.0</td>\n",
       "      <td>Lin-Kit+Sca1+</td>\n",
       "      <td>Monocyte</td>\n",
       "      <td>1</td>\n",
       "      <td>2548.309</td>\n",
       "      <td>24.683</td>\n",
       "    </tr>\n",
       "    <tr>\n",
       "      <th>LSK_d6_1_3</th>\n",
       "      <td>CCGGAAAT-GGGAAGGT</td>\n",
       "      <td>6.0</td>\n",
       "      <td>Lin-Kit+Sca1+</td>\n",
       "      <td>Monocyte</td>\n",
       "      <td>1</td>\n",
       "      <td>2658.601</td>\n",
       "      <td>131.098</td>\n",
       "    </tr>\n",
       "    <tr>\n",
       "      <th>LSK_d6_1_3</th>\n",
       "      <td>GTATTGAC-GGGTGTAT</td>\n",
       "      <td>6.0</td>\n",
       "      <td>Lin-Kit+Sca1+</td>\n",
       "      <td>Undifferentiated</td>\n",
       "      <td>1</td>\n",
       "      <td>-266.344</td>\n",
       "      <td>996.297</td>\n",
       "    </tr>\n",
       "  </tbody>\n",
       "</table>\n",
       "<p>130887 rows × 7 columns</p>\n",
       "</div>"
      ]
     },
     "execution_count": 5,
     "metadata": {},
     "output_type": "execute_result"
    }
   ],
   "execution_count": 5
  },
  {
   "metadata": {
    "ExecuteTime": {
     "end_time": "2024-06-09T06:29:24.984244Z",
     "start_time": "2024-06-09T06:29:24.968618Z"
    }
   },
   "cell_type": "code",
   "source": "metadata[\"Time point\"].value_counts()",
   "id": "748333bed739c1ae",
   "outputs": [
    {
     "data": {
      "text/plain": [
       "Time point\n",
       "6.0    54140\n",
       "4.0    48498\n",
       "2.0    28249\n",
       "Name: count, dtype: int64"
      ]
     },
     "execution_count": 7,
     "metadata": {},
     "output_type": "execute_result"
    }
   ],
   "execution_count": 7
  },
  {
   "cell_type": "code",
   "execution_count": 3,
   "id": "4b21a214-c39e-4d1d-8798-a0a24ce5cf3f",
   "metadata": {},
   "outputs": [],
   "source": [
    "clone_matrix_ori = sc.read_mtx(dataPath+'stateFate_inVitro_clone_matrix.mtx.gz')"
   ]
  },
  {
   "cell_type": "code",
   "execution_count": 4,
   "id": "a5f79c9b-e004-41d9-9099-f61e7d47c2ff",
   "metadata": {},
   "outputs": [
    {
     "data": {
      "text/plain": [
       "AnnData object with n_obs × n_vars = 130887 × 5864"
      ]
     },
     "execution_count": 4,
     "metadata": {},
     "output_type": "execute_result"
    }
   ],
   "source": [
    "clone_matrix_ori"
   ]
  },
  {
   "cell_type": "code",
   "execution_count": 5,
   "id": "ce16d6da-6662-44ec-956b-4af630b6dacb",
   "metadata": {},
   "outputs": [],
   "source": [
    "clone_matrix = np.array(clone_matrix_ori.X.todense())"
   ]
  },
  {
   "cell_type": "code",
   "execution_count": 6,
   "id": "2596befe-9aee-4790-98fe-86e25a25a093",
   "metadata": {},
   "outputs": [],
   "source": [
    "clonal_index = np.nonzero(clone_matrix)"
   ]
  },
  {
   "cell_type": "code",
   "execution_count": 12,
   "id": "ec1973fa-c6da-4243-a18e-c42ed71911b5",
   "metadata": {},
   "outputs": [],
   "source": [
    "metadata[\"Clone\"] = \"unknown\""
   ]
  },
  {
   "cell_type": "code",
   "execution_count": 13,
   "id": "385e72dc-5fff-4d28-9e2a-9ac77a46083d",
   "metadata": {},
   "outputs": [
    {
     "name": "stderr",
     "output_type": "stream",
     "text": [
      "C:\\Users\\ZeyuChen\\AppData\\Local\\Temp\\ipykernel_1932\\562998929.py:1: FutureWarning: ChainedAssignmentError: behaviour will change in pandas 3.0!\n",
      "You are setting values through chained assignment. Currently this works in certain cases, but when using Copy-on-Write (which will become the default behaviour in pandas 3.0) this will never work to update the original DataFrame or Series, because the intermediate object on which we are setting values will behave as a copy.\n",
      "A typical example is when you are setting values in a column of a DataFrame, like:\n",
      "\n",
      "df[\"col\"][row_indexer] = value\n",
      "\n",
      "Use `df.loc[row_indexer, \"col\"] = values` instead, to perform the assignment in a single step and ensure this keeps updating the original `df`.\n",
      "\n",
      "See the caveats in the documentation: https://pandas.pydata.org/pandas-docs/stable/user_guide/indexing.html#returning-a-view-versus-a-copy\n",
      "\n",
      "  metadata[\"Clone\"][clonal_index[0]] = clonal_index[1]\n",
      "C:\\Users\\ZeyuChen\\AppData\\Local\\Temp\\ipykernel_1932\\562998929.py:1: SettingWithCopyWarning: \n",
      "A value is trying to be set on a copy of a slice from a DataFrame\n",
      "\n",
      "See the caveats in the documentation: https://pandas.pydata.org/pandas-docs/stable/user_guide/indexing.html#returning-a-view-versus-a-copy\n",
      "  metadata[\"Clone\"][clonal_index[0]] = clonal_index[1]\n",
      "C:\\Users\\ZeyuChen\\AppData\\Local\\Temp\\ipykernel_1932\\562998929.py:1: FutureWarning: Series.__setitem__ treating keys as positions is deprecated. In a future version, integer keys will always be treated as labels (consistent with DataFrame behavior). To set a value by position, use `ser.iloc[pos] = value`\n",
      "  metadata[\"Clone\"][clonal_index[0]] = clonal_index[1]\n"
     ]
    }
   ],
   "source": [
    "metadata[\"Clone\"][clonal_index[0]] = clonal_index[1]"
   ]
  },
  {
   "cell_type": "code",
   "execution_count": 14,
   "id": "5886de04-7c86-46f9-8781-f98e7f3fd72c",
   "metadata": {},
   "outputs": [
    {
     "data": {
      "text/html": [
       "<div>\n",
       "<style scoped>\n",
       "    .dataframe tbody tr th:only-of-type {\n",
       "        vertical-align: middle;\n",
       "    }\n",
       "\n",
       "    .dataframe tbody tr th {\n",
       "        vertical-align: top;\n",
       "    }\n",
       "\n",
       "    .dataframe thead th {\n",
       "        text-align: right;\n",
       "    }\n",
       "</style>\n",
       "<table border=\"1\" class=\"dataframe\">\n",
       "  <thead>\n",
       "    <tr style=\"text-align: right;\">\n",
       "      <th></th>\n",
       "      <th>Cell barcode</th>\n",
       "      <th>Time point</th>\n",
       "      <th>Starting population</th>\n",
       "      <th>Cell type annotation</th>\n",
       "      <th>Well</th>\n",
       "      <th>SPRING-x</th>\n",
       "      <th>SPRING-y</th>\n",
       "      <th>Clone</th>\n",
       "    </tr>\n",
       "    <tr>\n",
       "      <th>Library</th>\n",
       "      <th></th>\n",
       "      <th></th>\n",
       "      <th></th>\n",
       "      <th></th>\n",
       "      <th></th>\n",
       "      <th></th>\n",
       "      <th></th>\n",
       "      <th></th>\n",
       "    </tr>\n",
       "  </thead>\n",
       "  <tbody>\n",
       "    <tr>\n",
       "      <th>d6_2_2</th>\n",
       "      <td>GCGTGCAA-AGAAGTTA</td>\n",
       "      <td>6.0</td>\n",
       "      <td>Lin-Kit+Sca1-</td>\n",
       "      <td>Undifferentiated</td>\n",
       "      <td>2</td>\n",
       "      <td>411.496</td>\n",
       "      <td>-96.190</td>\n",
       "      <td>573</td>\n",
       "    </tr>\n",
       "    <tr>\n",
       "      <th>d6_2_2</th>\n",
       "      <td>AAGGGACC-CTCGATGC</td>\n",
       "      <td>6.0</td>\n",
       "      <td>Lin-Kit+Sca1-</td>\n",
       "      <td>Undifferentiated</td>\n",
       "      <td>2</td>\n",
       "      <td>-587.462</td>\n",
       "      <td>-306.925</td>\n",
       "      <td>1440</td>\n",
       "    </tr>\n",
       "    <tr>\n",
       "      <th>d6_2_2</th>\n",
       "      <td>CGTACCGA-AGCGCCTT</td>\n",
       "      <td>6.0</td>\n",
       "      <td>Lin-Kit+Sca1-</td>\n",
       "      <td>Monocyte</td>\n",
       "      <td>2</td>\n",
       "      <td>1429.805</td>\n",
       "      <td>-429.300</td>\n",
       "      <td>394</td>\n",
       "    </tr>\n",
       "    <tr>\n",
       "      <th>d6_2_2</th>\n",
       "      <td>CTGAAGGG-AGGAGCTT</td>\n",
       "      <td>6.0</td>\n",
       "      <td>Lin-Kit+Sca1-</td>\n",
       "      <td>Neutrophil</td>\n",
       "      <td>2</td>\n",
       "      <td>1150.028</td>\n",
       "      <td>-2030.369</td>\n",
       "      <td>unknown</td>\n",
       "    </tr>\n",
       "    <tr>\n",
       "      <th>d6_2_2</th>\n",
       "      <td>CCGTAGCT-AGGCAGTT</td>\n",
       "      <td>6.0</td>\n",
       "      <td>Lin-Kit+Sca1-</td>\n",
       "      <td>Undifferentiated</td>\n",
       "      <td>2</td>\n",
       "      <td>-1169.594</td>\n",
       "      <td>362.010</td>\n",
       "      <td>1972</td>\n",
       "    </tr>\n",
       "    <tr>\n",
       "      <th>...</th>\n",
       "      <td>...</td>\n",
       "      <td>...</td>\n",
       "      <td>...</td>\n",
       "      <td>...</td>\n",
       "      <td>...</td>\n",
       "      <td>...</td>\n",
       "      <td>...</td>\n",
       "      <td>...</td>\n",
       "    </tr>\n",
       "    <tr>\n",
       "      <th>LSK_d6_1_3</th>\n",
       "      <td>TCTGATTT-CGGGCTTT</td>\n",
       "      <td>6.0</td>\n",
       "      <td>Lin-Kit+Sca1+</td>\n",
       "      <td>Undifferentiated</td>\n",
       "      <td>1</td>\n",
       "      <td>-308.468</td>\n",
       "      <td>-163.223</td>\n",
       "      <td>unknown</td>\n",
       "    </tr>\n",
       "    <tr>\n",
       "      <th>LSK_d6_1_3</th>\n",
       "      <td>AGTCACAA-TGTGTCCT</td>\n",
       "      <td>6.0</td>\n",
       "      <td>Lin-Kit+Sca1+</td>\n",
       "      <td>Undifferentiated</td>\n",
       "      <td>1</td>\n",
       "      <td>-3.435</td>\n",
       "      <td>575.133</td>\n",
       "      <td>1374</td>\n",
       "    </tr>\n",
       "    <tr>\n",
       "      <th>LSK_d6_1_3</th>\n",
       "      <td>GGAGGTTT-AGGCAGTT</td>\n",
       "      <td>6.0</td>\n",
       "      <td>Lin-Kit+Sca1+</td>\n",
       "      <td>Monocyte</td>\n",
       "      <td>1</td>\n",
       "      <td>2548.309</td>\n",
       "      <td>24.683</td>\n",
       "      <td>unknown</td>\n",
       "    </tr>\n",
       "    <tr>\n",
       "      <th>LSK_d6_1_3</th>\n",
       "      <td>CCGGAAAT-GGGAAGGT</td>\n",
       "      <td>6.0</td>\n",
       "      <td>Lin-Kit+Sca1+</td>\n",
       "      <td>Monocyte</td>\n",
       "      <td>1</td>\n",
       "      <td>2658.601</td>\n",
       "      <td>131.098</td>\n",
       "      <td>unknown</td>\n",
       "    </tr>\n",
       "    <tr>\n",
       "      <th>LSK_d6_1_3</th>\n",
       "      <td>GTATTGAC-GGGTGTAT</td>\n",
       "      <td>6.0</td>\n",
       "      <td>Lin-Kit+Sca1+</td>\n",
       "      <td>Undifferentiated</td>\n",
       "      <td>1</td>\n",
       "      <td>-266.344</td>\n",
       "      <td>996.297</td>\n",
       "      <td>unknown</td>\n",
       "    </tr>\n",
       "  </tbody>\n",
       "</table>\n",
       "<p>130887 rows × 8 columns</p>\n",
       "</div>"
      ],
      "text/plain": [
       "                 Cell barcode  Time point Starting population  \\\n",
       "Library                                                         \n",
       "d6_2_2      GCGTGCAA-AGAAGTTA         6.0       Lin-Kit+Sca1-   \n",
       "d6_2_2      AAGGGACC-CTCGATGC         6.0       Lin-Kit+Sca1-   \n",
       "d6_2_2      CGTACCGA-AGCGCCTT         6.0       Lin-Kit+Sca1-   \n",
       "d6_2_2      CTGAAGGG-AGGAGCTT         6.0       Lin-Kit+Sca1-   \n",
       "d6_2_2      CCGTAGCT-AGGCAGTT         6.0       Lin-Kit+Sca1-   \n",
       "...                       ...         ...                 ...   \n",
       "LSK_d6_1_3  TCTGATTT-CGGGCTTT         6.0       Lin-Kit+Sca1+   \n",
       "LSK_d6_1_3  AGTCACAA-TGTGTCCT         6.0       Lin-Kit+Sca1+   \n",
       "LSK_d6_1_3  GGAGGTTT-AGGCAGTT         6.0       Lin-Kit+Sca1+   \n",
       "LSK_d6_1_3  CCGGAAAT-GGGAAGGT         6.0       Lin-Kit+Sca1+   \n",
       "LSK_d6_1_3  GTATTGAC-GGGTGTAT         6.0       Lin-Kit+Sca1+   \n",
       "\n",
       "           Cell type annotation  Well  SPRING-x  SPRING-y    Clone  \n",
       "Library                                                             \n",
       "d6_2_2         Undifferentiated     2   411.496   -96.190      573  \n",
       "d6_2_2         Undifferentiated     2  -587.462  -306.925     1440  \n",
       "d6_2_2                 Monocyte     2  1429.805  -429.300      394  \n",
       "d6_2_2               Neutrophil     2  1150.028 -2030.369  unknown  \n",
       "d6_2_2         Undifferentiated     2 -1169.594   362.010     1972  \n",
       "...                         ...   ...       ...       ...      ...  \n",
       "LSK_d6_1_3     Undifferentiated     1  -308.468  -163.223  unknown  \n",
       "LSK_d6_1_3     Undifferentiated     1    -3.435   575.133     1374  \n",
       "LSK_d6_1_3             Monocyte     1  2548.309    24.683  unknown  \n",
       "LSK_d6_1_3             Monocyte     1  2658.601   131.098  unknown  \n",
       "LSK_d6_1_3     Undifferentiated     1  -266.344   996.297  unknown  \n",
       "\n",
       "[130887 rows x 8 columns]"
      ]
     },
     "execution_count": 14,
     "metadata": {},
     "output_type": "execute_result"
    }
   ],
   "source": [
    "metadata"
   ]
  },
  {
   "cell_type": "code",
   "execution_count": 15,
   "id": "c99cfba1-d951-4469-a351-e8e30669651f",
   "metadata": {},
   "outputs": [
    {
     "data": {
      "text/plain": [
       "Clone\n",
       "unknown    81585\n",
       "1261         177\n",
       "2370         165\n",
       "5714         142\n",
       "292          134\n",
       "           ...  \n",
       "5594           2\n",
       "866            2\n",
       "4884           2\n",
       "5101           2\n",
       "203            2\n",
       "Name: count, Length: 5865, dtype: int64"
      ]
     },
     "execution_count": 15,
     "metadata": {},
     "output_type": "execute_result"
    }
   ],
   "source": [
    "metadata[\"Clone\"].value_counts()"
   ]
  },
  {
   "cell_type": "code",
   "execution_count": 16,
   "id": "18a2b93c-b17a-4bd4-8818-c490aa811660",
   "metadata": {},
   "outputs": [
    {
     "name": "stderr",
     "output_type": "stream",
     "text": [
      "C:\\Users\\ZeyuChen\\AppData\\Local\\Temp\\ipykernel_1932\\3085349704.py:1: SettingWithCopyWarning: \n",
      "A value is trying to be set on a copy of a slice from a DataFrame\n",
      "\n",
      "See the caveats in the documentation: https://pandas.pydata.org/pandas-docs/stable/user_guide/indexing.html#returning-a-view-versus-a-copy\n",
      "  metadata[\"Clone\"][metadata[\"Clone\"] == \"unknown\"] = np.nan\n"
     ]
    }
   ],
   "source": [
    "metadata[\"Clone\"][metadata[\"Clone\"] == \"unknown\"] = np.nan"
   ]
  },
  {
   "cell_type": "code",
   "execution_count": 24,
   "id": "fa9f6849-f746-4ce7-9265-61f6b9b8a59a",
   "metadata": {},
   "outputs": [
    {
     "data": {
      "text/plain": [
       "Clone\n",
       "1261    177\n",
       "2370    165\n",
       "5714    142\n",
       "292     134\n",
       "5209    130\n",
       "       ... \n",
       "5594      2\n",
       "866       2\n",
       "4884      2\n",
       "5101      2\n",
       "2251      2\n",
       "Name: count, Length: 5864, dtype: int64"
      ]
     },
     "execution_count": 24,
     "metadata": {},
     "output_type": "execute_result"
    }
   ],
   "source": [
    "metadata[\"Clone\"].value_counts()"
   ]
  },
  {
   "cell_type": "code",
   "execution_count": 21,
   "id": "14870ae5-1fe1-4fe9-810c-91aa5b26a256",
   "metadata": {},
   "outputs": [],
   "source": [
    "counts_matrix.obs = metadata\n",
    "counts_matrix.var = gene_names\n",
    "counts_matrix.obs_names_make_unique()\n",
    "counts_matrix.var_names_make_unique()"
   ]
  },
  {
   "cell_type": "code",
   "execution_count": 22,
   "id": "f80bf969-0cd4-44a0-8077-c5349ee95344",
   "metadata": {},
   "outputs": [
    {
     "data": {
      "text/plain": [
       "AnnData object with n_obs × n_vars = 130887 × 25289\n",
       "    obs: 'Cell barcode', 'Time point', 'Starting population', 'Cell type annotation', 'Well', 'SPRING-x', 'SPRING-y', 'Clone'\n",
       "    var: 'gene_name'"
      ]
     },
     "execution_count": 22,
     "metadata": {},
     "output_type": "execute_result"
    }
   ],
   "source": [
    "counts_matrix"
   ]
  },
  {
   "cell_type": "code",
   "execution_count": 23,
   "id": "d34219ea-1d90-457a-8e82-231a4b2defa5",
   "metadata": {},
   "outputs": [
    {
     "data": {
      "text/html": [
       "<div>\n",
       "<style scoped>\n",
       "    .dataframe tbody tr th:only-of-type {\n",
       "        vertical-align: middle;\n",
       "    }\n",
       "\n",
       "    .dataframe tbody tr th {\n",
       "        vertical-align: top;\n",
       "    }\n",
       "\n",
       "    .dataframe thead th {\n",
       "        text-align: right;\n",
       "    }\n",
       "</style>\n",
       "<table border=\"1\" class=\"dataframe\">\n",
       "  <thead>\n",
       "    <tr style=\"text-align: right;\">\n",
       "      <th></th>\n",
       "      <th>Cell barcode</th>\n",
       "      <th>Time point</th>\n",
       "      <th>Starting population</th>\n",
       "      <th>Cell type annotation</th>\n",
       "      <th>Well</th>\n",
       "      <th>SPRING-x</th>\n",
       "      <th>SPRING-y</th>\n",
       "      <th>Clone</th>\n",
       "    </tr>\n",
       "    <tr>\n",
       "      <th>Library</th>\n",
       "      <th></th>\n",
       "      <th></th>\n",
       "      <th></th>\n",
       "      <th></th>\n",
       "      <th></th>\n",
       "      <th></th>\n",
       "      <th></th>\n",
       "      <th></th>\n",
       "    </tr>\n",
       "  </thead>\n",
       "  <tbody>\n",
       "    <tr>\n",
       "      <th>d6_2_2</th>\n",
       "      <td>GCGTGCAA-AGAAGTTA</td>\n",
       "      <td>6.0</td>\n",
       "      <td>Lin-Kit+Sca1-</td>\n",
       "      <td>Undifferentiated</td>\n",
       "      <td>2</td>\n",
       "      <td>411.496</td>\n",
       "      <td>-96.190</td>\n",
       "      <td>573</td>\n",
       "    </tr>\n",
       "    <tr>\n",
       "      <th>d6_2_2-1</th>\n",
       "      <td>AAGGGACC-CTCGATGC</td>\n",
       "      <td>6.0</td>\n",
       "      <td>Lin-Kit+Sca1-</td>\n",
       "      <td>Undifferentiated</td>\n",
       "      <td>2</td>\n",
       "      <td>-587.462</td>\n",
       "      <td>-306.925</td>\n",
       "      <td>1440</td>\n",
       "    </tr>\n",
       "    <tr>\n",
       "      <th>d6_2_2-2</th>\n",
       "      <td>CGTACCGA-AGCGCCTT</td>\n",
       "      <td>6.0</td>\n",
       "      <td>Lin-Kit+Sca1-</td>\n",
       "      <td>Monocyte</td>\n",
       "      <td>2</td>\n",
       "      <td>1429.805</td>\n",
       "      <td>-429.300</td>\n",
       "      <td>394</td>\n",
       "    </tr>\n",
       "    <tr>\n",
       "      <th>d6_2_2-3</th>\n",
       "      <td>CTGAAGGG-AGGAGCTT</td>\n",
       "      <td>6.0</td>\n",
       "      <td>Lin-Kit+Sca1-</td>\n",
       "      <td>Neutrophil</td>\n",
       "      <td>2</td>\n",
       "      <td>1150.028</td>\n",
       "      <td>-2030.369</td>\n",
       "      <td>NaN</td>\n",
       "    </tr>\n",
       "    <tr>\n",
       "      <th>d6_2_2-4</th>\n",
       "      <td>CCGTAGCT-AGGCAGTT</td>\n",
       "      <td>6.0</td>\n",
       "      <td>Lin-Kit+Sca1-</td>\n",
       "      <td>Undifferentiated</td>\n",
       "      <td>2</td>\n",
       "      <td>-1169.594</td>\n",
       "      <td>362.010</td>\n",
       "      <td>1972</td>\n",
       "    </tr>\n",
       "    <tr>\n",
       "      <th>...</th>\n",
       "      <td>...</td>\n",
       "      <td>...</td>\n",
       "      <td>...</td>\n",
       "      <td>...</td>\n",
       "      <td>...</td>\n",
       "      <td>...</td>\n",
       "      <td>...</td>\n",
       "      <td>...</td>\n",
       "    </tr>\n",
       "    <tr>\n",
       "      <th>LSK_d6_1_3-3120</th>\n",
       "      <td>TCTGATTT-CGGGCTTT</td>\n",
       "      <td>6.0</td>\n",
       "      <td>Lin-Kit+Sca1+</td>\n",
       "      <td>Undifferentiated</td>\n",
       "      <td>1</td>\n",
       "      <td>-308.468</td>\n",
       "      <td>-163.223</td>\n",
       "      <td>NaN</td>\n",
       "    </tr>\n",
       "    <tr>\n",
       "      <th>LSK_d6_1_3-3121</th>\n",
       "      <td>AGTCACAA-TGTGTCCT</td>\n",
       "      <td>6.0</td>\n",
       "      <td>Lin-Kit+Sca1+</td>\n",
       "      <td>Undifferentiated</td>\n",
       "      <td>1</td>\n",
       "      <td>-3.435</td>\n",
       "      <td>575.133</td>\n",
       "      <td>1374</td>\n",
       "    </tr>\n",
       "    <tr>\n",
       "      <th>LSK_d6_1_3-3122</th>\n",
       "      <td>GGAGGTTT-AGGCAGTT</td>\n",
       "      <td>6.0</td>\n",
       "      <td>Lin-Kit+Sca1+</td>\n",
       "      <td>Monocyte</td>\n",
       "      <td>1</td>\n",
       "      <td>2548.309</td>\n",
       "      <td>24.683</td>\n",
       "      <td>NaN</td>\n",
       "    </tr>\n",
       "    <tr>\n",
       "      <th>LSK_d6_1_3-3123</th>\n",
       "      <td>CCGGAAAT-GGGAAGGT</td>\n",
       "      <td>6.0</td>\n",
       "      <td>Lin-Kit+Sca1+</td>\n",
       "      <td>Monocyte</td>\n",
       "      <td>1</td>\n",
       "      <td>2658.601</td>\n",
       "      <td>131.098</td>\n",
       "      <td>NaN</td>\n",
       "    </tr>\n",
       "    <tr>\n",
       "      <th>LSK_d6_1_3-3124</th>\n",
       "      <td>GTATTGAC-GGGTGTAT</td>\n",
       "      <td>6.0</td>\n",
       "      <td>Lin-Kit+Sca1+</td>\n",
       "      <td>Undifferentiated</td>\n",
       "      <td>1</td>\n",
       "      <td>-266.344</td>\n",
       "      <td>996.297</td>\n",
       "      <td>NaN</td>\n",
       "    </tr>\n",
       "  </tbody>\n",
       "</table>\n",
       "<p>130887 rows × 8 columns</p>\n",
       "</div>"
      ],
      "text/plain": [
       "                      Cell barcode  Time point Starting population  \\\n",
       "Library                                                              \n",
       "d6_2_2           GCGTGCAA-AGAAGTTA         6.0       Lin-Kit+Sca1-   \n",
       "d6_2_2-1         AAGGGACC-CTCGATGC         6.0       Lin-Kit+Sca1-   \n",
       "d6_2_2-2         CGTACCGA-AGCGCCTT         6.0       Lin-Kit+Sca1-   \n",
       "d6_2_2-3         CTGAAGGG-AGGAGCTT         6.0       Lin-Kit+Sca1-   \n",
       "d6_2_2-4         CCGTAGCT-AGGCAGTT         6.0       Lin-Kit+Sca1-   \n",
       "...                            ...         ...                 ...   \n",
       "LSK_d6_1_3-3120  TCTGATTT-CGGGCTTT         6.0       Lin-Kit+Sca1+   \n",
       "LSK_d6_1_3-3121  AGTCACAA-TGTGTCCT         6.0       Lin-Kit+Sca1+   \n",
       "LSK_d6_1_3-3122  GGAGGTTT-AGGCAGTT         6.0       Lin-Kit+Sca1+   \n",
       "LSK_d6_1_3-3123  CCGGAAAT-GGGAAGGT         6.0       Lin-Kit+Sca1+   \n",
       "LSK_d6_1_3-3124  GTATTGAC-GGGTGTAT         6.0       Lin-Kit+Sca1+   \n",
       "\n",
       "                Cell type annotation  Well  SPRING-x  SPRING-y Clone  \n",
       "Library                                                               \n",
       "d6_2_2              Undifferentiated     2   411.496   -96.190   573  \n",
       "d6_2_2-1            Undifferentiated     2  -587.462  -306.925  1440  \n",
       "d6_2_2-2                    Monocyte     2  1429.805  -429.300   394  \n",
       "d6_2_2-3                  Neutrophil     2  1150.028 -2030.369   NaN  \n",
       "d6_2_2-4            Undifferentiated     2 -1169.594   362.010  1972  \n",
       "...                              ...   ...       ...       ...   ...  \n",
       "LSK_d6_1_3-3120     Undifferentiated     1  -308.468  -163.223   NaN  \n",
       "LSK_d6_1_3-3121     Undifferentiated     1    -3.435   575.133  1374  \n",
       "LSK_d6_1_3-3122             Monocyte     1  2548.309    24.683   NaN  \n",
       "LSK_d6_1_3-3123             Monocyte     1  2658.601   131.098   NaN  \n",
       "LSK_d6_1_3-3124     Undifferentiated     1  -266.344   996.297   NaN  \n",
       "\n",
       "[130887 rows x 8 columns]"
      ]
     },
     "execution_count": 23,
     "metadata": {},
     "output_type": "execute_result"
    }
   ],
   "source": [
    "counts_matrix.obs"
   ]
  },
  {
   "cell_type": "code",
   "execution_count": 25,
   "id": "4b7457d6-db06-4838-ace7-41fca5518768",
   "metadata": {},
   "outputs": [],
   "source": [
    "counts_matrix.obs[\"Clone\"] = np.array(counts_matrix.obs[\"Clone\"]).astype(str)"
   ]
  },
  {
   "cell_type": "code",
   "execution_count": 30,
   "id": "46c7f18d-4b82-4470-a0c4-4e532432291a",
   "metadata": {},
   "outputs": [
    {
     "data": {
      "text/html": [
       "<div>\n",
       "<style scoped>\n",
       "    .dataframe tbody tr th:only-of-type {\n",
       "        vertical-align: middle;\n",
       "    }\n",
       "\n",
       "    .dataframe tbody tr th {\n",
       "        vertical-align: top;\n",
       "    }\n",
       "\n",
       "    .dataframe thead th {\n",
       "        text-align: right;\n",
       "    }\n",
       "</style>\n",
       "<table border=\"1\" class=\"dataframe\">\n",
       "  <thead>\n",
       "    <tr style=\"text-align: right;\">\n",
       "      <th></th>\n",
       "      <th>Cell barcode</th>\n",
       "      <th>Time point</th>\n",
       "      <th>Starting population</th>\n",
       "      <th>Cell type annotation</th>\n",
       "      <th>Well</th>\n",
       "      <th>SPRING-x</th>\n",
       "      <th>SPRING-y</th>\n",
       "      <th>Clone</th>\n",
       "    </tr>\n",
       "    <tr>\n",
       "      <th>Library</th>\n",
       "      <th></th>\n",
       "      <th></th>\n",
       "      <th></th>\n",
       "      <th></th>\n",
       "      <th></th>\n",
       "      <th></th>\n",
       "      <th></th>\n",
       "      <th></th>\n",
       "    </tr>\n",
       "  </thead>\n",
       "  <tbody>\n",
       "    <tr>\n",
       "      <th>d6_2_2</th>\n",
       "      <td>GCGTGCAA-AGAAGTTA</td>\n",
       "      <td>6.0</td>\n",
       "      <td>Lin-Kit+Sca1-</td>\n",
       "      <td>Undifferentiated</td>\n",
       "      <td>2</td>\n",
       "      <td>411.496</td>\n",
       "      <td>-96.190</td>\n",
       "      <td>573</td>\n",
       "    </tr>\n",
       "    <tr>\n",
       "      <th>d6_2_2-1</th>\n",
       "      <td>AAGGGACC-CTCGATGC</td>\n",
       "      <td>6.0</td>\n",
       "      <td>Lin-Kit+Sca1-</td>\n",
       "      <td>Undifferentiated</td>\n",
       "      <td>2</td>\n",
       "      <td>-587.462</td>\n",
       "      <td>-306.925</td>\n",
       "      <td>1440</td>\n",
       "    </tr>\n",
       "    <tr>\n",
       "      <th>d6_2_2-2</th>\n",
       "      <td>CGTACCGA-AGCGCCTT</td>\n",
       "      <td>6.0</td>\n",
       "      <td>Lin-Kit+Sca1-</td>\n",
       "      <td>Monocyte</td>\n",
       "      <td>2</td>\n",
       "      <td>1429.805</td>\n",
       "      <td>-429.300</td>\n",
       "      <td>394</td>\n",
       "    </tr>\n",
       "    <tr>\n",
       "      <th>d6_2_2-3</th>\n",
       "      <td>CTGAAGGG-AGGAGCTT</td>\n",
       "      <td>6.0</td>\n",
       "      <td>Lin-Kit+Sca1-</td>\n",
       "      <td>Neutrophil</td>\n",
       "      <td>2</td>\n",
       "      <td>1150.028</td>\n",
       "      <td>-2030.369</td>\n",
       "      <td>nan</td>\n",
       "    </tr>\n",
       "    <tr>\n",
       "      <th>d6_2_2-4</th>\n",
       "      <td>CCGTAGCT-AGGCAGTT</td>\n",
       "      <td>6.0</td>\n",
       "      <td>Lin-Kit+Sca1-</td>\n",
       "      <td>Undifferentiated</td>\n",
       "      <td>2</td>\n",
       "      <td>-1169.594</td>\n",
       "      <td>362.010</td>\n",
       "      <td>1972</td>\n",
       "    </tr>\n",
       "    <tr>\n",
       "      <th>...</th>\n",
       "      <td>...</td>\n",
       "      <td>...</td>\n",
       "      <td>...</td>\n",
       "      <td>...</td>\n",
       "      <td>...</td>\n",
       "      <td>...</td>\n",
       "      <td>...</td>\n",
       "      <td>...</td>\n",
       "    </tr>\n",
       "    <tr>\n",
       "      <th>LSK_d6_1_3-3120</th>\n",
       "      <td>TCTGATTT-CGGGCTTT</td>\n",
       "      <td>6.0</td>\n",
       "      <td>Lin-Kit+Sca1+</td>\n",
       "      <td>Undifferentiated</td>\n",
       "      <td>1</td>\n",
       "      <td>-308.468</td>\n",
       "      <td>-163.223</td>\n",
       "      <td>nan</td>\n",
       "    </tr>\n",
       "    <tr>\n",
       "      <th>LSK_d6_1_3-3121</th>\n",
       "      <td>AGTCACAA-TGTGTCCT</td>\n",
       "      <td>6.0</td>\n",
       "      <td>Lin-Kit+Sca1+</td>\n",
       "      <td>Undifferentiated</td>\n",
       "      <td>1</td>\n",
       "      <td>-3.435</td>\n",
       "      <td>575.133</td>\n",
       "      <td>1374</td>\n",
       "    </tr>\n",
       "    <tr>\n",
       "      <th>LSK_d6_1_3-3122</th>\n",
       "      <td>GGAGGTTT-AGGCAGTT</td>\n",
       "      <td>6.0</td>\n",
       "      <td>Lin-Kit+Sca1+</td>\n",
       "      <td>Monocyte</td>\n",
       "      <td>1</td>\n",
       "      <td>2548.309</td>\n",
       "      <td>24.683</td>\n",
       "      <td>nan</td>\n",
       "    </tr>\n",
       "    <tr>\n",
       "      <th>LSK_d6_1_3-3123</th>\n",
       "      <td>CCGGAAAT-GGGAAGGT</td>\n",
       "      <td>6.0</td>\n",
       "      <td>Lin-Kit+Sca1+</td>\n",
       "      <td>Monocyte</td>\n",
       "      <td>1</td>\n",
       "      <td>2658.601</td>\n",
       "      <td>131.098</td>\n",
       "      <td>nan</td>\n",
       "    </tr>\n",
       "    <tr>\n",
       "      <th>LSK_d6_1_3-3124</th>\n",
       "      <td>GTATTGAC-GGGTGTAT</td>\n",
       "      <td>6.0</td>\n",
       "      <td>Lin-Kit+Sca1+</td>\n",
       "      <td>Undifferentiated</td>\n",
       "      <td>1</td>\n",
       "      <td>-266.344</td>\n",
       "      <td>996.297</td>\n",
       "      <td>nan</td>\n",
       "    </tr>\n",
       "  </tbody>\n",
       "</table>\n",
       "<p>130887 rows × 8 columns</p>\n",
       "</div>"
      ],
      "text/plain": [
       "                      Cell barcode  Time point Starting population  \\\n",
       "Library                                                              \n",
       "d6_2_2           GCGTGCAA-AGAAGTTA         6.0       Lin-Kit+Sca1-   \n",
       "d6_2_2-1         AAGGGACC-CTCGATGC         6.0       Lin-Kit+Sca1-   \n",
       "d6_2_2-2         CGTACCGA-AGCGCCTT         6.0       Lin-Kit+Sca1-   \n",
       "d6_2_2-3         CTGAAGGG-AGGAGCTT         6.0       Lin-Kit+Sca1-   \n",
       "d6_2_2-4         CCGTAGCT-AGGCAGTT         6.0       Lin-Kit+Sca1-   \n",
       "...                            ...         ...                 ...   \n",
       "LSK_d6_1_3-3120  TCTGATTT-CGGGCTTT         6.0       Lin-Kit+Sca1+   \n",
       "LSK_d6_1_3-3121  AGTCACAA-TGTGTCCT         6.0       Lin-Kit+Sca1+   \n",
       "LSK_d6_1_3-3122  GGAGGTTT-AGGCAGTT         6.0       Lin-Kit+Sca1+   \n",
       "LSK_d6_1_3-3123  CCGGAAAT-GGGAAGGT         6.0       Lin-Kit+Sca1+   \n",
       "LSK_d6_1_3-3124  GTATTGAC-GGGTGTAT         6.0       Lin-Kit+Sca1+   \n",
       "\n",
       "                Cell type annotation  Well  SPRING-x  SPRING-y Clone  \n",
       "Library                                                               \n",
       "d6_2_2              Undifferentiated     2   411.496   -96.190   573  \n",
       "d6_2_2-1            Undifferentiated     2  -587.462  -306.925  1440  \n",
       "d6_2_2-2                    Monocyte     2  1429.805  -429.300   394  \n",
       "d6_2_2-3                  Neutrophil     2  1150.028 -2030.369   nan  \n",
       "d6_2_2-4            Undifferentiated     2 -1169.594   362.010  1972  \n",
       "...                              ...   ...       ...       ...   ...  \n",
       "LSK_d6_1_3-3120     Undifferentiated     1  -308.468  -163.223   nan  \n",
       "LSK_d6_1_3-3121     Undifferentiated     1    -3.435   575.133  1374  \n",
       "LSK_d6_1_3-3122             Monocyte     1  2548.309    24.683   nan  \n",
       "LSK_d6_1_3-3123             Monocyte     1  2658.601   131.098   nan  \n",
       "LSK_d6_1_3-3124     Undifferentiated     1  -266.344   996.297   nan  \n",
       "\n",
       "[130887 rows x 8 columns]"
      ]
     },
     "execution_count": 30,
     "metadata": {},
     "output_type": "execute_result"
    }
   ],
   "source": [
    "counts_matrix.obs"
   ]
  },
  {
   "cell_type": "code",
   "execution_count": 27,
   "id": "4c8e03a7-b9d7-4e2f-a72c-8cb4fb1bc654",
   "metadata": {},
   "outputs": [],
   "source": [
    "counts_matrix.write(dataPath + 'larry_scobj.h5ad')"
   ]
  },
  {
   "metadata": {},
   "cell_type": "markdown",
   "source": "## Downsample 50% (stratified by time point)",
   "id": "32212e03b7dc99b8"
  },
  {
   "cell_type": "code",
   "execution_count": 28,
   "id": "aab4f953-631a-418c-8c03-1d8fb8bda525",
   "metadata": {},
   "outputs": [],
   "source": [
    "all_times = list(counts_matrix.obs['Time point'])\n",
    "index = np.array([])"
   ]
  },
  {
   "cell_type": "code",
   "execution_count": 36,
   "id": "c6293c06-71d7-4377-b848-4177ecbb069d",
   "metadata": {},
   "outputs": [],
   "source": [
    "for time in np.unique(all_times):\n",
    "    index_sel = np.array(counts_matrix.obs[counts_matrix.obs['Time point'] == time].index)\n",
    "    new_index = np.random.choice(index_sel, int(0.5 * len(index_sel)), replace=False)\n",
    "    index = np.append(index, new_index)"
   ]
  },
  {
   "cell_type": "code",
   "execution_count": 38,
   "id": "114da3a9-9788-46c9-8e6f-07a40687a185",
   "metadata": {},
   "outputs": [
    {
     "data": {
      "text/plain": [
       "65443"
      ]
     },
     "execution_count": 38,
     "metadata": {},
     "output_type": "execute_result"
    }
   ],
   "source": [
    "len(index)"
   ]
  },
  {
   "cell_type": "code",
   "execution_count": 40,
   "id": "626adb9c-59c3-47e9-b7b7-10ed73ad3cf2",
   "metadata": {},
   "outputs": [],
   "source": [
    "count_down = counts_matrix[index,:]"
   ]
  },
  {
   "cell_type": "code",
   "execution_count": 41,
   "id": "f2223ed8-cff9-4bb4-b0cd-ecbf3d160d42",
   "metadata": {},
   "outputs": [
    {
     "data": {
      "text/plain": [
       "View of AnnData object with n_obs × n_vars = 65443 × 25289\n",
       "    obs: 'Cell barcode', 'Time point', 'Starting population', 'Cell type annotation', 'Well', 'SPRING-x', 'SPRING-y', 'Clone'\n",
       "    var: 'gene_name'"
      ]
     },
     "execution_count": 41,
     "metadata": {},
     "output_type": "execute_result"
    }
   ],
   "source": [
    "count_down"
   ]
  },
  {
   "cell_type": "code",
   "execution_count": 44,
   "id": "e4186b64-4fab-4571-a2b8-0fd55721d081",
   "metadata": {},
   "outputs": [
    {
     "name": "stderr",
     "output_type": "stream",
     "text": [
      "C:\\Users\\ZeyuChen\\AppData\\Local\\Temp\\ipykernel_1932\\3848097348.py:1: FutureWarning: ChainedAssignmentError: behaviour will change in pandas 3.0!\n",
      "You are setting values through chained assignment. Currently this works in certain cases, but when using Copy-on-Write (which will become the default behaviour in pandas 3.0) this will never work to update the original DataFrame or Series, because the intermediate object on which we are setting values will behave as a copy.\n",
      "A typical example is when you are setting values in a column of a DataFrame, like:\n",
      "\n",
      "df[\"col\"][row_indexer] = value\n",
      "\n",
      "Use `df.loc[row_indexer, \"col\"] = values` instead, to perform the assignment in a single step and ensure this keeps updating the original `df`.\n",
      "\n",
      "See the caveats in the documentation: https://pandas.pydata.org/pandas-docs/stable/user_guide/indexing.html#returning-a-view-versus-a-copy\n",
      "\n",
      "  count_down.obs[\"Clone\"][count_down.obs[\"Clone\"] == \"nan\"] = np.nan\n"
     ]
    }
   ],
   "source": [
    "count_down.obs[\"Clone\"][count_down.obs[\"Clone\"] == \"nan\"] = np.nan"
   ]
  },
  {
   "cell_type": "code",
   "execution_count": 46,
   "id": "88a60ab8-7748-4c9e-ba31-e6f02570865c",
   "metadata": {},
   "outputs": [
    {
     "data": {
      "text/plain": [
       "24693"
      ]
     },
     "execution_count": 46,
     "metadata": {},
     "output_type": "execute_result"
    }
   ],
   "source": [
    "np.sum(count_down.obs[\"Clone\"].value_counts())"
   ]
  },
  {
   "cell_type": "code",
   "execution_count": 47,
   "id": "1d98251c-a8e9-4f17-8e1e-9ae5ba3096e1",
   "metadata": {},
   "outputs": [],
   "source": [
    "count_down.write(dataPath + 'larry_scobj_down50.h5ad')"
   ]
  },
  {
   "cell_type": "code",
   "execution_count": 3,
   "id": "bdcfa39c-fa2a-4a48-9be6-06e48023c33b",
   "metadata": {},
   "outputs": [
    {
     "name": "stderr",
     "output_type": "stream",
     "text": [
      "E:\\Software\\Anaconda\\anaconda3\\envs\\scLTMF_env\\lib\\site-packages\\anndata\\_core\\anndata.py:1818: UserWarning: Observation names are not unique. To make them unique, call `.obs_names_make_unique`.\n",
      "  utils.warn_names_duplicates(\"obs\")\n"
     ]
    }
   ],
   "source": [
    "data_combined = sc.read(dataPath + 'adata.h5ad')"
   ]
  },
  {
   "cell_type": "code",
   "execution_count": 13,
   "id": "355e19f3-ee97-457e-b43f-56e010b1d520",
   "metadata": {},
   "outputs": [
    {
     "data": {
      "text/plain": [
       "AnnData object with n_obs × n_vars = 130887 × 25289\n",
       "    obs: 'Cell barcode', 'Time point', 'Starting population', 'Cell type annotation', 'Well', 'SPRING-x', 'SPRING-y'\n",
       "    var: '_index'"
      ]
     },
     "execution_count": 13,
     "metadata": {},
     "output_type": "execute_result"
    }
   ],
   "source": [
    "data_combined"
   ]
  },
  {
   "metadata": {},
   "cell_type": "markdown",
   "source": "## Save another 50% percent of data",
   "id": "ab3ff60c5296b381"
  },
  {
   "metadata": {
    "ExecuteTime": {
     "end_time": "2024-06-26T04:11:14.600825Z",
     "start_time": "2024-06-26T04:11:13.738800Z"
    }
   },
   "cell_type": "code",
   "source": [
    "dataPath_ori = 'D:/Lineage-data/Science2020-Larry/In vitro differentiation time course/'\n",
    "data_combine = sc.read(dataPath_ori + 'larry_scobj.h5ad')\n",
    "data_combine_1 = sc.read(dataPath_ori + 'larry_scobj_down50.h5ad')"
   ],
   "id": "af55ed321a7cd69c",
   "outputs": [
    {
     "name": "stderr",
     "output_type": "stream",
     "text": [
      "E:\\Software\\Anaconda\\anaconda3\\envs\\scLTMF_env\\lib\\site-packages\\anndata\\_core\\aligned_df.py:67: ImplicitModificationWarning: Transforming to str index.\n",
      "  warnings.warn(\"Transforming to str index.\", ImplicitModificationWarning)\n",
      "E:\\Software\\Anaconda\\anaconda3\\envs\\scLTMF_env\\lib\\site-packages\\anndata\\_core\\aligned_df.py:67: ImplicitModificationWarning: Transforming to str index.\n",
      "  warnings.warn(\"Transforming to str index.\", ImplicitModificationWarning)\n"
     ]
    }
   ],
   "execution_count": 2
  },
  {
   "metadata": {
    "ExecuteTime": {
     "end_time": "2024-06-26T04:11:19.243091Z",
     "start_time": "2024-06-26T04:11:19.229092Z"
    }
   },
   "cell_type": "code",
   "source": "data_combine",
   "id": "6a0915642bab2534",
   "outputs": [
    {
     "data": {
      "text/plain": [
       "AnnData object with n_obs × n_vars = 130887 × 25289\n",
       "    obs: 'Cell barcode', 'Time point', 'Starting population', 'Cell type annotation', 'Well', 'SPRING-x', 'SPRING-y', 'Clone'\n",
       "    var: 'gene_name'"
      ]
     },
     "execution_count": 3,
     "metadata": {},
     "output_type": "execute_result"
    }
   ],
   "execution_count": 3
  },
  {
   "metadata": {
    "ExecuteTime": {
     "end_time": "2024-06-26T04:11:23.731873Z",
     "start_time": "2024-06-26T04:11:23.725669Z"
    }
   },
   "cell_type": "code",
   "source": "data_combine_1",
   "id": "936a56ca1e26e60c",
   "outputs": [
    {
     "data": {
      "text/plain": [
       "AnnData object with n_obs × n_vars = 65443 × 25289\n",
       "    obs: 'Cell barcode', 'Time point', 'Starting population', 'Cell type annotation', 'Well', 'SPRING-x', 'SPRING-y', 'Clone'\n",
       "    var: 'gene_name'"
      ]
     },
     "execution_count": 4,
     "metadata": {},
     "output_type": "execute_result"
    }
   ],
   "execution_count": 4
  },
  {
   "metadata": {
    "ExecuteTime": {
     "end_time": "2024-06-26T04:17:51.054686Z",
     "start_time": "2024-06-26T04:17:51.012344Z"
    }
   },
   "cell_type": "code",
   "source": [
    "all_cells = set(data_combine.obs_names)\n",
    "cells_1 = set(data_combine_1.obs_names)\n",
    "unique_to_adata2 = all_cells - cells_1"
   ],
   "id": "fcb24eaa94a31b27",
   "outputs": [],
   "execution_count": 5
  },
  {
   "metadata": {
    "ExecuteTime": {
     "end_time": "2024-06-26T04:18:58.646670Z",
     "start_time": "2024-06-26T04:18:58.255967Z"
    }
   },
   "cell_type": "code",
   "source": "data_combine_2 = data_combine[data_combine.obs_names.isin(unique_to_adata2)].copy()",
   "id": "6590bc24428d12ce",
   "outputs": [],
   "execution_count": 8
  },
  {
   "metadata": {
    "ExecuteTime": {
     "end_time": "2024-06-26T04:19:02.292094Z",
     "start_time": "2024-06-26T04:19:02.275715Z"
    }
   },
   "cell_type": "code",
   "source": "data_combine_2",
   "id": "569d0fb58b363e3d",
   "outputs": [
    {
     "data": {
      "text/plain": [
       "AnnData object with n_obs × n_vars = 65444 × 25289\n",
       "    obs: 'Cell barcode', 'Time point', 'Starting population', 'Cell type annotation', 'Well', 'SPRING-x', 'SPRING-y', 'Clone'\n",
       "    var: 'gene_name'"
      ]
     },
     "execution_count": 9,
     "metadata": {},
     "output_type": "execute_result"
    }
   ],
   "execution_count": 9
  },
  {
   "metadata": {
    "ExecuteTime": {
     "end_time": "2024-06-26T04:19:21.023529Z",
     "start_time": "2024-06-26T04:19:21.015530Z"
    }
   },
   "cell_type": "code",
   "source": "data_combine.obs[\"Clone\"].value_counts()",
   "id": "61361c270564070a",
   "outputs": [
    {
     "data": {
      "text/plain": [
       "Clone\n",
       "nan     81585\n",
       "1261      177\n",
       "2370      165\n",
       "5714      142\n",
       "292       134\n",
       "        ...  \n",
       "2155        2\n",
       "4633        2\n",
       "4632        2\n",
       "4631        2\n",
       "231         2\n",
       "Name: count, Length: 5865, dtype: int64"
      ]
     },
     "execution_count": 10,
     "metadata": {},
     "output_type": "execute_result"
    }
   ],
   "execution_count": 10
  },
  {
   "metadata": {
    "ExecuteTime": {
     "end_time": "2024-06-26T04:19:25.799205Z",
     "start_time": "2024-06-26T04:19:25.780206Z"
    }
   },
   "cell_type": "code",
   "source": "data_combine_1.obs[\"Clone\"].value_counts()",
   "id": "ac66cfec7b507d92",
   "outputs": [
    {
     "data": {
      "text/plain": [
       "Clone\n",
       "1261    99\n",
       "2370    78\n",
       "5714    77\n",
       "5209    77\n",
       "292     68\n",
       "        ..\n",
       "4462     1\n",
       "4458     1\n",
       "2107     1\n",
       "4454     1\n",
       "nan      0\n",
       "Name: count, Length: 5287, dtype: int64"
      ]
     },
     "execution_count": 11,
     "metadata": {},
     "output_type": "execute_result"
    }
   ],
   "execution_count": 11
  },
  {
   "metadata": {
    "ExecuteTime": {
     "end_time": "2024-06-26T04:20:20.430398Z",
     "start_time": "2024-06-26T04:20:20.411481Z"
    }
   },
   "cell_type": "code",
   "source": [
    "data_combine_2.obs[\"Clone\"][data_combine_2.obs[\"Clone\"] == \"nan\"] = np.nan\n",
    "data_combine_2.obs[\"Clone\"].value_counts()"
   ],
   "id": "5382eb12056b475a",
   "outputs": [
    {
     "name": "stderr",
     "output_type": "stream",
     "text": [
      "C:\\Users\\ZeyuChen\\AppData\\Local\\Temp\\ipykernel_9068\\1802836609.py:1: FutureWarning: ChainedAssignmentError: behaviour will change in pandas 3.0!\n",
      "You are setting values through chained assignment. Currently this works in certain cases, but when using Copy-on-Write (which will become the default behaviour in pandas 3.0) this will never work to update the original DataFrame or Series, because the intermediate object on which we are setting values will behave as a copy.\n",
      "A typical example is when you are setting values in a column of a DataFrame, like:\n",
      "\n",
      "df[\"col\"][row_indexer] = value\n",
      "\n",
      "Use `df.loc[row_indexer, \"col\"] = values` instead, to perform the assignment in a single step and ensure this keeps updating the original `df`.\n",
      "\n",
      "See the caveats in the documentation: https://pandas.pydata.org/pandas-docs/stable/user_guide/indexing.html#returning-a-view-versus-a-copy\n",
      "\n",
      "  data_combine_2.obs[\"Clone\"][data_combine_2.obs[\"Clone\"] == \"nan\"] = np.nan\n"
     ]
    },
    {
     "data": {
      "text/plain": [
       "Clone\n",
       "2370    87\n",
       "1261    78\n",
       "3345    72\n",
       "292     66\n",
       "5714    65\n",
       "        ..\n",
       "3208     1\n",
       "3203     1\n",
       "3202     1\n",
       "3201     1\n",
       "nan      0\n",
       "Name: count, Length: 5286, dtype: int64"
      ]
     },
     "execution_count": 13,
     "metadata": {},
     "output_type": "execute_result"
    }
   ],
   "execution_count": 13
  },
  {
   "metadata": {
    "ExecuteTime": {
     "end_time": "2024-06-26T04:20:59.428330Z",
     "start_time": "2024-06-26T04:20:57.345052Z"
    }
   },
   "cell_type": "code",
   "source": "data_combine_2.write(dataPath_ori + 'larry_scobj_down50_another.h5ad')",
   "id": "e1d82f55d3cd18b6",
   "outputs": [],
   "execution_count": 15
  },
  {
   "metadata": {},
   "cell_type": "markdown",
   "source": "## Split dataset",
   "id": "1698372b7e16fbc2"
  },
  {
   "metadata": {},
   "cell_type": "code",
   "outputs": [],
   "execution_count": null,
   "source": [
    "data_combine = sc.read(dataPath + 'larry_scobj_down50.h5ad')\n",
    "data_combine.var_names = data_combine.var.loc[:, \"gene_name\"]"
   ],
   "id": "53938f4e8c4a26e0"
  },
  {
   "metadata": {},
   "cell_type": "code",
   "outputs": [],
   "execution_count": null,
   "source": [
    "def getScObjects(scobj, item, values, n_neighbors=10, n_pcs=40):\n",
    "    data_split = [scobj[scobj.obs[item] == v, :] for v in values]\n",
    "    data_split = [preProcess(d, log_normalize=True) for d in data_split]\n",
    "    comm_hvgs = set([g for d in data_split for g in d.var.index[d.var.highly_variable]])\n",
    "\n",
    "    for di in range(len(data_split)):\n",
    "        data_split[di].var.highly_variable = [gene in comm_hvgs for gene in data_split[di].var.index]\n",
    "        data_split[di] = runScanpy(data_split[di], n_neighbors, n_pcs, regress=False)\n",
    "\n",
    "    return (data_split)"
   ],
   "id": "e4236022e654515a"
  },
  {
   "metadata": {},
   "cell_type": "code",
   "outputs": [],
   "execution_count": null,
   "source": "data_2, data_4, data_6 = getScObjects(data_combine, item='Time point', values=[2, 4, 6], n_neighbors=10, n_pcs=40)",
   "id": "d67ef77b14e6f345"
  },
  {
   "metadata": {},
   "cell_type": "code",
   "outputs": [],
   "execution_count": null,
   "source": [
    "data_2.write(dataPath_ori + 'D2_larry_scobj_down50.h5ad')\n",
    "data_4.write(dataPath_ori + 'D4_larry_scobj_down50.h5ad')\n",
    "data_6.write(dataPath_ori + 'D6_larry_scobj_down50.h5ad')"
   ],
   "id": "62539590b1fcd560"
  }
 ],
 "metadata": {
  "kernelspec": {
   "display_name": "Python 3 (ipykernel)",
   "language": "python",
   "name": "python3"
  },
  "language_info": {
   "codemirror_mode": {
    "name": "ipython",
    "version": 3
   },
   "file_extension": ".py",
   "mimetype": "text/x-python",
   "name": "python",
   "nbconvert_exporter": "python",
   "pygments_lexer": "ipython3",
   "version": "3.9.19"
  }
 },
 "nbformat": 4,
 "nbformat_minor": 5
}
